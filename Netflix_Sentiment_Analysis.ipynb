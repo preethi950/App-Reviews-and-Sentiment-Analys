{
 "cells": [
  {
   "cell_type": "markdown",
   "id": "d73e17e6",
   "metadata": {},
   "source": [
    "# Netflix App Reviews Sentiment Analysis\n",
    "This notebook analyzes user reviews of the Netflix app from the Google Play Store using NLP techniques."
   ]
  },
  {
   "cell_type": "code",
   "execution_count": null,
   "id": "1413df0b",
   "metadata": {},
   "outputs": [],
   "source": [
    "\n",
    "# Install necessary packages\n",
    "!pip install -q google_play_scraper\n",
    "!pip install -q transformers\n",
    "!pip install -q plotly-express\n",
    "!pip install -q pyyaml\n"
   ]
  },
  {
   "cell_type": "code",
   "execution_count": null,
   "id": "b7739eaa",
   "metadata": {},
   "outputs": [],
   "source": [
    "\n",
    "# Import libraries\n",
    "import pandas as p\n",
    "import numpy as np\n",
    "from google_play_scraper import app, Sort, reviews_all\n",
    "import plotly.express as px\n",
    "from transformers import pipeline\n"
   ]
  },
  {
   "cell_type": "code",
   "execution_count": null,
   "id": "6519eef3",
   "metadata": {},
   "outputs": [],
   "source": [
    "\n",
    "# Fetch reviews for Netflix app\n",
    "netflix = reviews_all('com.netflix.mediaclient', sleep_milliseconds=0, lang='en', country='us', sort=Sort.NEWEST)\n"
   ]
  },
  {
   "cell_type": "code",
   "execution_count": null,
   "id": "6c4aa46c",
   "metadata": {},
   "outputs": [],
   "source": [
    "\n",
    "# Normalize the JSON data to create a DataFrame\n",
    "df = p.json_normalize(netflix)\n",
    "df.head()\n"
   ]
  },
  {
   "cell_type": "code",
   "execution_count": null,
   "id": "ed1d860b",
   "metadata": {},
   "outputs": [],
   "source": [
    "\n",
    "# Load sentiment analysis pipeline using a pre-trained transformer model\n",
    "sentiment_analysis = pipeline(\"sentiment-analysis\", model=\"siebert/sentiment-roberta-large-english\")\n"
   ]
  },
  {
   "cell_type": "code",
   "execution_count": null,
   "id": "86c5f0d8",
   "metadata": {},
   "outputs": [],
   "source": [
    "\n",
    "# Ensure content is in string format\n",
    "df['content'] = df['content'].astype(str)\n",
    "\n",
    "# Apply sentiment analysis on reviews\n",
    "df['result'] = df['content'].apply(lambda x: sentiment_analysis(x))\n",
    "df['sentiment'] = df['result'].apply(lambda x: x[0]['label'])\n",
    "df['sentiment_score'] = df['result'].apply(lambda x: x[0]['score'])\n",
    "\n",
    "df.head()\n"
   ]
  },
  {
   "cell_type": "code",
   "execution_count": null,
   "id": "bee6356c",
   "metadata": {},
   "outputs": [],
   "source": [
    "\n",
    "# Plot the distribution of sentiments\n",
    "fig = px.histogram(df, x='sentiment', text_auto=True, title='Sentiment Analysis of Netflix App Reviews')\n",
    "fig.show()\n"
   ]
  }
 ],
 "metadata": {},
 "nbformat": 4,
 "nbformat_minor": 5
}
